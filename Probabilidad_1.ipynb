{
 "cells": [
  {
   "cell_type": "markdown",
   "id": "9dcb9cde-4cf7-4dbb-b89f-3ddc43fd8f80",
   "metadata": {},
   "source": [
    "<h1 style=\"text-align:center\">PROBABILIDAD 1</h1>"
   ]
  },
  {
   "cell_type": "markdown",
   "id": "4d3a3a28-dd97-45c7-98ac-3b58945b0406",
   "metadata": {
    "tags": []
   },
   "source": [
    "# MONEDA\n",
    "## Lanzar una moneda numérica"
   ]
  },
  {
   "cell_type": "code",
   "execution_count": 1,
   "id": "7a4d2e73-6e79-45a2-9512-2a589286ec9e",
   "metadata": {},
   "outputs": [],
   "source": [
    "from random import randint"
   ]
  },
  {
   "cell_type": "code",
   "execution_count": 2,
   "id": "69913ed4-0323-436e-b961-f8aef8f5f24c",
   "metadata": {},
   "outputs": [
    {
     "data": {
      "text/plain": [
       "1"
      ]
     },
     "execution_count": 2,
     "metadata": {},
     "output_type": "execute_result"
    }
   ],
   "source": [
    "res = randint(0,1)\n",
    "res"
   ]
  },
  {
   "cell_type": "markdown",
   "id": "8d9e5623-600e-4992-a46f-eee7f4c793da",
   "metadata": {},
   "source": [
    "## Lanzar una moneda categórica"
   ]
  },
  {
   "cell_type": "code",
   "execution_count": 3,
   "id": "9a004165-e348-4b08-b2a3-f45541d26b91",
   "metadata": {},
   "outputs": [],
   "source": [
    "from random import choice"
   ]
  },
  {
   "cell_type": "code",
   "execution_count": 24,
   "id": "0d46a3d4-0f3f-41ff-a3bf-328e2318eadc",
   "metadata": {},
   "outputs": [
    {
     "data": {
      "text/plain": [
       "'sol'"
      ]
     },
     "execution_count": 24,
     "metadata": {},
     "output_type": "execute_result"
    }
   ],
   "source": [
    "universo = ['ágila', 'sol']\n",
    "res = choice(universo)\n",
    "res"
   ]
  },
  {
   "cell_type": "markdown",
   "id": "e673b537-eef1-4aba-8fcf-50d7b564dfa8",
   "metadata": {
    "tags": []
   },
   "source": [
    "## Lanzar una moneda n veces"
   ]
  },
  {
   "cell_type": "code",
   "execution_count": 25,
   "id": "33e95990-a812-458b-bf56-c5aba13fb8c4",
   "metadata": {},
   "outputs": [],
   "source": [
    "n = 100\n",
    "l = []\n",
    "for _ in range(n):\n",
    "    moneda = randint(0,1)\n",
    "    l.append(moneda)"
   ]
  },
  {
   "cell_type": "markdown",
   "id": "f234986b-1ba2-4e28-b387-f41ea155e7c6",
   "metadata": {},
   "source": [
    "## Contar resultados"
   ]
  },
  {
   "cell_type": "code",
   "execution_count": 26,
   "id": "3ec547aa-615e-4abd-a0c8-92831acf46e5",
   "metadata": {},
   "outputs": [],
   "source": [
    "aguilas = sum(l)\n",
    "soles = n - aguilas"
   ]
  },
  {
   "cell_type": "code",
   "execution_count": 27,
   "id": "26358e4a-b3bb-4452-be14-4742f8732852",
   "metadata": {},
   "outputs": [],
   "source": [
    "resultado = dict(aguilas=aguilas, soles=soles)"
   ]
  },
  {
   "cell_type": "code",
   "execution_count": 28,
   "id": "33655e25-4538-43cc-9e8a-5271e3d7c83b",
   "metadata": {},
   "outputs": [
    {
     "data": {
      "text/plain": [
       "{'aguilas': 44, 'soles': 56}"
      ]
     },
     "execution_count": 28,
     "metadata": {},
     "output_type": "execute_result"
    }
   ],
   "source": [
    "resultado"
   ]
  },
  {
   "cell_type": "markdown",
   "id": "5947bd55-9949-4330-8b85-40889c5aa82d",
   "metadata": {},
   "source": [
    "## Gráfica un histograma"
   ]
  },
  {
   "cell_type": "code",
   "execution_count": 9,
   "id": "dd77321e-4e5e-4fd8-a660-b673953f8c84",
   "metadata": {},
   "outputs": [],
   "source": [
    "import matplotlib.pyplot as plt\n",
    "from matplotlib.pyplot import figure"
   ]
  },
  {
   "cell_type": "code",
   "execution_count": 115,
   "id": "bd43e606-b989-4915-85fe-3bdfec40728b",
   "metadata": {},
   "outputs": [
    {
     "data": {
      "text/plain": [
       "<BarContainer object of 2 artists>"
      ]
     },
     "execution_count": 115,
     "metadata": {},
     "output_type": "execute_result"
    },
    {
     "data": {
      "image/png": "[encoded data removed]",
      "text/plain": [
       "<Figure size 600x600 with 1 Axes>"
      ]
     },
     "metadata": {
      "needs_background": "light"
     },
     "output_type": "display_data"
    }
   ],
   "source": [
    "# draw a figure\n",
    "figure(figsize=(10,10), dpi=60) \n",
    "plt.bar(resultado.keys(), resultado.values())"
   ]
  },
  {
   "cell_type": "markdown",
   "id": "4a7e758a-ea8e-441f-a283-cc761fa3aabf",
   "metadata": {},
   "source": [
    "## Lanzando dos monedas 100 veces."
   ]
  },
  {
   "cell_type": "code",
   "execution_count": 11,
   "id": "9cc268e6-de25-4df8-97e0-483c645f434e",
   "metadata": {},
   "outputs": [],
   "source": [
    "n = 100\n",
    "l = []\n",
    "\n",
    "#Sol = 0 y águila = 1\n",
    "suma_aguila_aguila = 0\n",
    "suma_aguila_sol = 0\n",
    "suma_sol_aguila = 0\n",
    "suma_sol_sol = 0\n",
    "for _ in range(n):\n",
    "    moneda1 = randint(0,1)\n",
    "    moneda2 = randint(0,1)\n",
    "    #a = (moneda1,moneda2)\n",
    "    #l.append(a)\n",
    "\n",
    "    if moneda1 == 1 and moneda2 == 1:\n",
    "        suma_aguila_aguila += 1  \n",
    "    elif moneda1 == 1 and moneda2 == 0:\n",
    "        suma_aguila_sol += 1\n",
    "    elif moneda1 == 0 and moneda2 == 1:\n",
    "        suma_sol_aguila += 1\n",
    "    elif moneda1 == 0 and moneda2 == 0:\n",
    "        suma_sol_sol += 1\n",
    "\n",
    "l1 = [suma_aguila_aguila, suma_aguila_sol, suma_sol_aguila, suma_sol_sol]\n",
    "l2 = [\"suma_aguila_aguila\", \"suma_aguila_sol\", \"suma_sol_aguila\", \"suma_sol_sol\"]"
   ]
  },
  {
   "cell_type": "code",
   "execution_count": 12,
   "id": "0ffdc06e-23f9-4760-81fc-387945508eca",
   "metadata": {},
   "outputs": [
    {
     "data": {
      "text/plain": [
       "<BarContainer object of 4 artists>"
      ]
     },
     "execution_count": 12,
     "metadata": {},
     "output_type": "execute_result"
    },
    {
     "data": {
      "image/png": "[encoded data removed]",
      "text/plain": [
       "<Figure size 960x960 with 1 Axes>"
      ]
     },
     "metadata": {
      "needs_background": "light"
     },
     "output_type": "display_data"
    }
   ],
   "source": [
    "figure(figsize=(16,16), dpi=60) \n",
    "plt.bar(l2,l1)"
   ]
  },
  {
   "cell_type": "code",
   "execution_count": 13,
   "id": "875dcdfd-9d55-46c8-81d3-665a0223bc18",
   "metadata": {},
   "outputs": [
    {
     "name": "stdout",
     "output_type": "stream",
     "text": [
      "suma_aguila_aguila =  23\n"
     ]
    }
   ],
   "source": [
    "print(\"suma_aguila_aguila = \", suma_aguila_aguila)"
   ]
  },
  {
   "cell_type": "code",
   "execution_count": 14,
   "id": "c2a34213-6d47-40fb-b458-6106be2109fb",
   "metadata": {},
   "outputs": [
    {
     "name": "stdout",
     "output_type": "stream",
     "text": [
      "suma_aguila_sol 28\n"
     ]
    }
   ],
   "source": [
    "print(\"suma_aguila_sol\", suma_aguila_sol)"
   ]
  },
  {
   "cell_type": "code",
   "execution_count": 15,
   "id": "719f44cc-cf2f-4fad-ae0c-cdc9f94c6449",
   "metadata": {},
   "outputs": [
    {
     "name": "stdout",
     "output_type": "stream",
     "text": [
      "suma_sol_aguila 27\n"
     ]
    }
   ],
   "source": [
    "print(\"suma_sol_aguila\", suma_sol_aguila)"
   ]
  },
  {
   "cell_type": "code",
   "execution_count": 16,
   "id": "57df6110-7e8a-4432-9eab-eab97ae821c4",
   "metadata": {},
   "outputs": [
    {
     "name": "stdout",
     "output_type": "stream",
     "text": [
      "suma_sol_sol 22\n"
     ]
    }
   ],
   "source": [
    "print(\"suma_sol_sol\", suma_sol_sol)"
   ]
  },
  {
   "cell_type": "code",
   "execution_count": 29,
   "id": "d47e598f-04b4-48bb-87f0-9b9f3b6ae498",
   "metadata": {},
   "outputs": [
    {
     "data": {
      "text/plain": [
       "100"
      ]
     },
     "execution_count": 29,
     "metadata": {},
     "output_type": "execute_result"
    }
   ],
   "source": [
    "suma_aguila_aguila+suma_aguila_sol+suma_sol_aguila+suma_sol_sol"
   ]
  },
  {
   "cell_type": "markdown",
   "id": "03258eab-24d9-47d6-928d-d6ab820c44e4",
   "metadata": {},
   "source": [
    "# DADO\n",
    "## Lanzar un dado"
   ]
  },
  {
   "cell_type": "code",
   "execution_count": 30,
   "id": "90a3510e-a9eb-48ce-a2e0-7024480b741f",
   "metadata": {},
   "outputs": [],
   "source": [
    "from random import randint"
   ]
  },
  {
   "cell_type": "code",
   "execution_count": 56,
   "id": "3752b756-1131-42a2-a7fb-532819931fbc",
   "metadata": {},
   "outputs": [],
   "source": [
    "dado = randint(1,6)"
   ]
  },
  {
   "cell_type": "code",
   "execution_count": 57,
   "id": "b9c0f725-8853-4177-b6a3-be792bbeac43",
   "metadata": {},
   "outputs": [
    {
     "data": {
      "text/plain": [
       "6"
      ]
     },
     "execution_count": 57,
     "metadata": {},
     "output_type": "execute_result"
    }
   ],
   "source": [
    "dado "
   ]
  },
  {
   "cell_type": "markdown",
   "id": "f8bc5012-3b8f-4a64-86ca-0291b3f3870d",
   "metadata": {},
   "source": [
    "# Lanzar un dado 100 veces"
   ]
  },
  {
   "cell_type": "code",
   "execution_count": 91,
   "id": "31391bb1-1468-435e-84c2-d7ff16ba8a37",
   "metadata": {},
   "outputs": [
    {
     "name": "stdout",
     "output_type": "stream",
     "text": [
      "100\n"
     ]
    }
   ],
   "source": [
    "l = []\n",
    "for i in range(100):\n",
    "    dado = randint(1,6)\n",
    "    l.append(dado)\n",
    "print(len(l))"
   ]
  },
  {
   "cell_type": "code",
   "execution_count": null,
   "id": "e820ab6a-bfe7-4fea-967e-f453e3a19a44",
   "metadata": {},
   "outputs": [],
   "source": [
    "resultados = []\n",
    "for i in range(1,7):\n",
    "    resultados.append(l.count(i)) #contanto cuántas veces salió cada número"
   ]
  },
  {
   "cell_type": "code",
   "execution_count": 104,
   "id": "3c7a891c-5706-4a35-adcf-e2a6972e7f6e",
   "metadata": {},
   "outputs": [
    {
     "data": {
      "text/plain": [
       "[19, 13, 13, 19, 14, 22]"
      ]
     },
     "execution_count": 104,
     "metadata": {},
     "output_type": "execute_result"
    }
   ],
   "source": [
    "resultados"
   ]
  },
  {
   "cell_type": "code",
   "execution_count": 108,
   "id": "f5e16b9b-479f-4f1d-9405-c331d4b17ff3",
   "metadata": {},
   "outputs": [
    {
     "data": {
      "text/plain": [
       "100"
      ]
     },
     "execution_count": 108,
     "metadata": {},
     "output_type": "execute_result"
    }
   ],
   "source": [
    "sum(resultados)"
   ]
  },
  {
   "cell_type": "code",
   "execution_count": 109,
   "id": "174baa73-efad-4314-b91c-cbc870c5e854",
   "metadata": {},
   "outputs": [],
   "source": [
    "unos = resultados[0]\n",
    "dos = resultados[1]\n",
    "tres = resultados[2]\n",
    "cuatro = resultados[3]\n",
    "cinco = resultados[4]\n",
    "seis = resultados[5]"
   ]
  },
  {
   "cell_type": "code",
   "execution_count": 110,
   "id": "92c60a9f-d5f4-4ee5-925d-f3e6ddce4cf5",
   "metadata": {},
   "outputs": [],
   "source": [
    "dado = dict(unos=unos, dos=dos, tres=tres, cuatro=cuatro, cinco=cinco, seis=seis)"
   ]
  },
  {
   "cell_type": "code",
   "execution_count": 111,
   "id": "97ce2f33-00e8-470b-93e3-b5d2f009a2ef",
   "metadata": {},
   "outputs": [
    {
     "data": {
      "text/plain": [
       "{'unos': 19, 'dos': 13, 'tres': 13, 'cuatro': 19, 'cinco': 14, 'seis': 22}"
      ]
     },
     "execution_count": 111,
     "metadata": {},
     "output_type": "execute_result"
    }
   ],
   "source": [
    "dado"
   ]
  },
  {
   "cell_type": "code",
   "execution_count": 117,
   "id": "be1ee52f-d14e-4173-9db0-b16dd8823980",
   "metadata": {},
   "outputs": [],
   "source": [
    "import matplotlib.pyplot as plt\n",
    "from matplotlib.pyplot import figure"
   ]
  },
  {
   "cell_type": "code",
   "execution_count": 119,
   "id": "73bfb7a3-827c-416c-8dbf-121fbe3c2fce",
   "metadata": {},
   "outputs": [
    {
     "data": {
      "text/plain": [
       "<BarContainer object of 6 artists>"
      ]
     },
     "execution_count": 119,
     "metadata": {},
     "output_type": "execute_result"
    },
    {
     "data": {
      "image/png": "[encoded data removed]",
      "text/plain": [
       "<Figure size 960x960 with 1 Axes>"
      ]
     },
     "metadata": {
      "needs_background": "light"
     },
     "output_type": "display_data"
    }
   ],
   "source": [
    "# draw a figure\n",
    "figure(figsize=(16,16), dpi=60) \n",
    "plt.bar(dado.keys(), dado.values())"
   ]
  },
  {
   "cell_type": "code",
   "execution_count": null,
   "id": "0752aa6f-3785-4e3b-8b0e-73f248e55655",
   "metadata": {},
   "outputs": [],
   "source": []
  }
 ],
 "metadata": {
  "kernelspec": {
   "display_name": "Python 3 (ipykernel)",
   "language": "python",
   "name": "python3"
  },
  "language_info": {
   "codemirror_mode": {
    "name": "ipython",
    "version": 3
   },
   "file_extension": ".py",
   "mimetype": "text/x-python",
   "name": "python",
   "nbconvert_exporter": "python",
   "pygments_lexer": "ipython3",
   "version": "3.10.2"
  }
 },
 "nbformat": 4,
 "nbformat_minor": 5
}
